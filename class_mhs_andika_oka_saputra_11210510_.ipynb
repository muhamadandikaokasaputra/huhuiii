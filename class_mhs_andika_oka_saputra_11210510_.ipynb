{
  "nbformat": 4,
  "nbformat_minor": 0,
  "metadata": {
    "colab": {
      "provenance": [],
      "authorship_tag": "ABX9TyO5CHUkOEQhR06ugNvGatiJ",
      "include_colab_link": true
    },
    "kernelspec": {
      "name": "python3",
      "display_name": "Python 3"
    },
    "language_info": {
      "name": "python"
    }
  },
  "cells": [
    {
      "cell_type": "markdown",
      "metadata": {
        "id": "view-in-github",
        "colab_type": "text"
      },
      "source": [
        "<a href=\"https://colab.research.google.com/github/muhamadandikaokasaputra/huhuiii/blob/main/class_mhs_andika_oka_saputra_11210510_.ipynb\" target=\"_parent\"><img src=\"https://colab.research.google.com/assets/colab-badge.svg\" alt=\"Open In Colab\"/></a>"
      ]
    },
    {
      "cell_type": "code",
      "execution_count": 22,
      "metadata": {
        "colab": {
          "base_uri": "https://localhost:8080/"
        },
        "id": "CF9zsgg5O5ij",
        "outputId": "1a8b9edc-8203-48ac-d223-f5561277cc5a"
      },
      "outputs": [
        {
          "output_type": "stream",
          "name": "stdout",
          "text": [
            "Data nim:31001\n",
            "Data nama:Tini\n",
            "|31001|Tini\n"
          ]
        }
      ],
      "source": [
        "class Mhs:\n",
        "  _nim =\"\"\n",
        "  _nama=\"\"\n",
        "  _ip=0.0\n",
        "  _umur=0\n",
        "\n",
        "arrMhs=[]\n",
        "MhsTini=Mhs()\n",
        "\n",
        "MhsTini._nim=\"31001\"\n",
        "MhsTini._nama=\"Tini\"\n",
        "MhsTini._ip=3.1\n",
        "MhsTini._umur=18\n",
        "\n",
        "arrMhs.append(MhsTini)\n",
        "\n",
        "print(f'Data nim:{arrMhs[0]._nim}')\n",
        "print(f'Data nama:{arrMhs[0]._nama}')\n",
        "\n",
        "for Tabel in arrMhs:\n",
        "  print(f'|{Tabel._nim}|{Tabel._nama}')"
      ]
    }
  ]
}